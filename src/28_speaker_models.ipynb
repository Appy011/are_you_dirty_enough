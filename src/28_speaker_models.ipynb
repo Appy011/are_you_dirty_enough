{
 "cells": [
  {
   "cell_type": "code",
   "execution_count": 1,
   "metadata": {},
   "outputs": [
    {
     "name": "stderr",
     "output_type": "stream",
     "text": [
      "Using TensorFlow backend.\n"
     ]
    }
   ],
   "source": [
    "import librosa\n",
    "import wave, os, glob\n",
    "import csv\n",
    "import numpy as np\n",
    "import pandas as pd\n",
    "import matplotlib.pyplot as plt\n",
    "import seaborn as sns\n",
    "\n",
    "%matplotlib inline\n",
    "\n",
    "from sklearn.model_selection import train_test_split, KFold\n",
    "from sklearn.preprocessing import LabelEncoder, StandardScaler\n",
    "\n",
    "from keras import models\n",
    "from keras import layers"
   ]
  },
  {
   "cell_type": "markdown",
   "metadata": {},
   "source": [
    "# Creating CSV file"
   ]
  },
  {
   "cell_type": "code",
   "execution_count": 2,
   "metadata": {},
   "outputs": [],
   "source": [
    "\"\"\"\n",
    "\n",
    "creating a list of headings\n",
    "\n",
    "\"\"\"\n",
    "\n",
    "header = 'filename chroma_stft rmse spectral_centroid spectral_bandwidth rolloff zero_crossing_rate'\n",
    "for i in range(1, 21):\n",
    "    header += f' mfcc{i}'\n",
    "header += ' label'\n",
    "header = header.split()"
   ]
  },
  {
   "cell_type": "code",
   "execution_count": 3,
   "metadata": {},
   "outputs": [],
   "source": [
    "clean_filenames = glob.glob('clean_trainset_28/*')"
   ]
  },
  {
   "cell_type": "code",
   "execution_count": 4,
   "metadata": {},
   "outputs": [],
   "source": [
    "noisy_filenames = glob.glob('noisy_trainset_28/*')"
   ]
  },
  {
   "cell_type": "code",
   "execution_count": 5,
   "metadata": {},
   "outputs": [
    {
     "data": {
      "text/plain": [
       "5000"
      ]
     },
     "execution_count": 5,
     "metadata": {},
     "output_type": "execute_result"
    }
   ],
   "source": [
    "total_filenames = clean_filenames[:2500] + noisy_filenames[:2500]\n",
    "len(total_filenames)"
   ]
  },
  {
   "cell_type": "code",
   "execution_count": 6,
   "metadata": {},
   "outputs": [
    {
     "name": "stdout",
     "output_type": "stream",
     "text": [
      "11572\n",
      "11572\n"
     ]
    }
   ],
   "source": [
    "print(len(clean_filenames))\n",
    "print(len(noisy_filenames))"
   ]
  },
  {
   "cell_type": "markdown",
   "metadata": {},
   "source": [
    "# Adding 28 Speaker Clean Data"
   ]
  },
  {
   "cell_type": "code",
   "execution_count": 7,
   "metadata": {},
   "outputs": [],
   "source": [
    "sr = 48000\n",
    "\n",
    "\"\"\"\n",
    "\n",
    "opening and writing the headings to a csv file\n",
    "\n",
    "\"\"\"\n",
    "\n",
    "file = open('28spk_data.csv', 'w', newline='')\n",
    "with file:\n",
    "    writer = csv.writer(file)\n",
    "    writer.writerow(header)\n",
    "\n",
    "\n",
    "\"\"\"\n",
    "\n",
    "Below code selects every file inside both folders. Extracting features from every wav file\n",
    "and storing them into a csv file\n",
    "\n",
    "0 - 4000\n",
    "\n",
    "\"\"\"\n",
    "\n",
    "\n",
    "for filename in clean_filenames[:4000]:\n",
    "    y, sr = librosa.load(filename, sr=sr)\n",
    "    chroma_stft = librosa.feature.chroma_stft(y=y, sr=sr)\n",
    "    rmse = librosa.feature.rms(y=y)\n",
    "    spec_cent = librosa.feature.spectral_centroid(y=y, sr=sr)\n",
    "    spec_bw = librosa.feature.spectral_bandwidth(y=y, sr=sr)\n",
    "    rolloff = librosa.feature.spectral_rolloff(y=y, sr=sr)\n",
    "    zcr = librosa.feature.zero_crossing_rate(y)\n",
    "    mfcc = librosa.feature.mfcc(y=y, sr=sr)\n",
    "    to_append = f'{filename} {np.mean(chroma_stft)} {np.mean(rmse)} {np.mean(spec_cent)} {np.mean(spec_bw)} {np.mean(rolloff)} {np.mean(zcr)}'    \n",
    "    for e in mfcc:\n",
    "        to_append += f' {np.mean(e)}'\n",
    "    file = open('28spk_data.csv', 'a', newline='')\n",
    "    with file:\n",
    "        writer = csv.writer(file)\n",
    "        writer.writerow(to_append.split())"
   ]
  },
  {
   "cell_type": "code",
   "execution_count": 8,
   "metadata": {},
   "outputs": [],
   "source": [
    "\"\"\"\n",
    "Below code selects every file inside both folders. Extracting features from every wav file\n",
    "and storing them into a csv file\n",
    "\n",
    "4,000 - 8,000\n",
    "\n",
    "\"\"\"\n",
    "\n",
    "\n",
    "for filename in clean_filenames[4000:8000]:\n",
    "    y, sr = librosa.load(filename, sr=sr)\n",
    "    chroma_stft = librosa.feature.chroma_stft(y=y, sr=sr)\n",
    "    rmse = librosa.feature.rms(y=y)\n",
    "    spec_cent = librosa.feature.spectral_centroid(y=y, sr=sr)\n",
    "    spec_bw = librosa.feature.spectral_bandwidth(y=y, sr=sr)\n",
    "    rolloff = librosa.feature.spectral_rolloff(y=y, sr=sr)\n",
    "    zcr = librosa.feature.zero_crossing_rate(y)\n",
    "    mfcc = librosa.feature.mfcc(y=y, sr=sr)\n",
    "    to_append = f'{filename} {np.mean(chroma_stft)} {np.mean(rmse)} {np.mean(spec_cent)} {np.mean(spec_bw)} {np.mean(rolloff)} {np.mean(zcr)}'    \n",
    "    for e in mfcc:\n",
    "        to_append += f' {np.mean(e)}'\n",
    "    file = open('28spk_data.csv', 'a', newline='')\n",
    "    with file:\n",
    "        writer = csv.writer(file)\n",
    "        writer.writerow(to_append.split())"
   ]
  },
  {
   "cell_type": "code",
   "execution_count": 9,
   "metadata": {},
   "outputs": [],
   "source": [
    "\"\"\"\n",
    "Below code selects every file inside both folders. Extracting features from every wav file\n",
    "and storing them into a csv file\n",
    "\n",
    "8,000 - 11,572\n",
    "\n",
    "\"\"\"\n",
    "\n",
    "\n",
    "for filename in clean_filenames[8000:11572]:\n",
    "    y, sr = librosa.load(filename, sr=sr)\n",
    "    chroma_stft = librosa.feature.chroma_stft(y=y, sr=sr)\n",
    "    rmse = librosa.feature.rms(y=y)\n",
    "    spec_cent = librosa.feature.spectral_centroid(y=y, sr=sr)\n",
    "    spec_bw = librosa.feature.spectral_bandwidth(y=y, sr=sr)\n",
    "    rolloff = librosa.feature.spectral_rolloff(y=y, sr=sr)\n",
    "    zcr = librosa.feature.zero_crossing_rate(y)\n",
    "    mfcc = librosa.feature.mfcc(y=y, sr=sr)\n",
    "    to_append = f'{filename} {np.mean(chroma_stft)} {np.mean(rmse)} {np.mean(spec_cent)} {np.mean(spec_bw)} {np.mean(rolloff)} {np.mean(zcr)}'    \n",
    "    for e in mfcc:\n",
    "        to_append += f' {np.mean(e)}'\n",
    "    file = open('28spk_data.csv', 'a', newline='')\n",
    "    with file:\n",
    "        writer = csv.writer(file)\n",
    "        writer.writerow(to_append.split())"
   ]
  },
  {
   "cell_type": "code",
   "execution_count": 10,
   "metadata": {},
   "outputs": [],
   "source": [
    "clean_files_raw = pd.read_csv('28spk_data.csv')"
   ]
  },
  {
   "cell_type": "code",
   "execution_count": 11,
   "metadata": {},
   "outputs": [],
   "source": [
    "clean_files = clean_files_raw[:]"
   ]
  },
  {
   "cell_type": "code",
   "execution_count": 12,
   "metadata": {},
   "outputs": [
    {
     "name": "stdout",
     "output_type": "stream",
     "text": [
      "<class 'pandas.core.frame.DataFrame'>\n",
      "RangeIndex: 11572 entries, 0 to 11571\n",
      "Data columns (total 28 columns):\n",
      "filename              11572 non-null object\n",
      "chroma_stft           11572 non-null float64\n",
      "rmse                  11572 non-null float64\n",
      "spectral_centroid     11572 non-null float64\n",
      "spectral_bandwidth    11572 non-null float64\n",
      "rolloff               11572 non-null float64\n",
      "zero_crossing_rate    11572 non-null float64\n",
      "mfcc1                 11572 non-null float64\n",
      "mfcc2                 11572 non-null float64\n",
      "mfcc3                 11572 non-null float64\n",
      "mfcc4                 11572 non-null float64\n",
      "mfcc5                 11572 non-null float64\n",
      "mfcc6                 11572 non-null float64\n",
      "mfcc7                 11572 non-null float64\n",
      "mfcc8                 11572 non-null float64\n",
      "mfcc9                 11572 non-null float64\n",
      "mfcc10                11572 non-null float64\n",
      "mfcc11                11572 non-null float64\n",
      "mfcc12                11572 non-null float64\n",
      "mfcc13                11572 non-null float64\n",
      "mfcc14                11572 non-null float64\n",
      "mfcc15                11572 non-null float64\n",
      "mfcc16                11572 non-null float64\n",
      "mfcc17                11572 non-null float64\n",
      "mfcc18                11572 non-null float64\n",
      "mfcc19                11572 non-null float64\n",
      "mfcc20                11572 non-null float64\n",
      "label                 0 non-null float64\n",
      "dtypes: float64(27), object(1)\n",
      "memory usage: 2.5+ MB\n"
     ]
    }
   ],
   "source": [
    "clean_files.info()"
   ]
  },
  {
   "cell_type": "markdown",
   "metadata": {},
   "source": [
    "# Adding 28 Speaker Noisy Data"
   ]
  },
  {
   "cell_type": "code",
   "execution_count": 14,
   "metadata": {},
   "outputs": [],
   "source": [
    "\"\"\"\n",
    "\n",
    "Below code selects every file inside both folders. Extracting features from every wav file\n",
    "and storing them into a csv file\n",
    "\n",
    "0 - 4,000\n",
    "\n",
    "\"\"\"\n",
    "\n",
    "for filename in noisy_filenames[:4000]:\n",
    "    y, sr = librosa.load(filename, sr=sr)\n",
    "    chroma_stft = librosa.feature.chroma_stft(y=y, sr=sr)\n",
    "    rmse = librosa.feature.rms(y=y)\n",
    "    spec_cent = librosa.feature.spectral_centroid(y=y, sr=sr)\n",
    "    spec_bw = librosa.feature.spectral_bandwidth(y=y, sr=sr)\n",
    "    rolloff = librosa.feature.spectral_rolloff(y=y, sr=sr)\n",
    "    zcr = librosa.feature.zero_crossing_rate(y)\n",
    "    mfcc = librosa.feature.mfcc(y=y, sr=sr)\n",
    "    to_append = f'{filename} {np.mean(chroma_stft)} {np.mean(rmse)} {np.mean(spec_cent)} {np.mean(spec_bw)} {np.mean(rolloff)} {np.mean(zcr)}'    \n",
    "    for e in mfcc:\n",
    "        to_append += f' {np.mean(e)}'\n",
    "    file = open('28spk_data.csv', 'a', newline='')\n",
    "    with file:\n",
    "        writer = csv.writer(file)\n",
    "        writer.writerow(to_append.split())"
   ]
  },
  {
   "cell_type": "code",
   "execution_count": 15,
   "metadata": {},
   "outputs": [],
   "source": [
    "\"\"\"\n",
    "\n",
    "Below code selects every file inside both folders. Extracting features from every wav file\n",
    "and storing them into a csv file\n",
    "\n",
    "4,000 - 8,000\n",
    "\n",
    "\"\"\"\n",
    "\n",
    "for filename in noisy_filenames[4000:8000]:\n",
    "    y, sr = librosa.load(filename, sr=sr)\n",
    "    chroma_stft = librosa.feature.chroma_stft(y=y, sr=sr)\n",
    "    rmse = librosa.feature.rms(y=y)\n",
    "    spec_cent = librosa.feature.spectral_centroid(y=y, sr=sr)\n",
    "    spec_bw = librosa.feature.spectral_bandwidth(y=y, sr=sr)\n",
    "    rolloff = librosa.feature.spectral_rolloff(y=y, sr=sr)\n",
    "    zcr = librosa.feature.zero_crossing_rate(y)\n",
    "    mfcc = librosa.feature.mfcc(y=y, sr=sr)\n",
    "    to_append = f'{filename} {np.mean(chroma_stft)} {np.mean(rmse)} {np.mean(spec_cent)} {np.mean(spec_bw)} {np.mean(rolloff)} {np.mean(zcr)}'    \n",
    "    for e in mfcc:\n",
    "        to_append += f' {np.mean(e)}'\n",
    "    file = open('28spk_data.csv', 'a', newline='')\n",
    "    with file:\n",
    "        writer = csv.writer(file)\n",
    "        writer.writerow(to_append.split())"
   ]
  },
  {
   "cell_type": "code",
   "execution_count": 16,
   "metadata": {},
   "outputs": [],
   "source": [
    "\"\"\"\n",
    "\n",
    "Below code selects every file inside both folders. Extracting features from every wav file\n",
    "and storing them into a csv file\n",
    "\n",
    "8,000 - 11,572\n",
    "\n",
    "\"\"\"\n",
    "\n",
    "for filename in noisy_filenames[8000:11572]:\n",
    "    y, sr = librosa.load(filename, sr=sr)\n",
    "    chroma_stft = librosa.feature.chroma_stft(y=y, sr=sr)\n",
    "    rmse = librosa.feature.rms(y=y)\n",
    "    spec_cent = librosa.feature.spectral_centroid(y=y, sr=sr)\n",
    "    spec_bw = librosa.feature.spectral_bandwidth(y=y, sr=sr)\n",
    "    rolloff = librosa.feature.spectral_rolloff(y=y, sr=sr)\n",
    "    zcr = librosa.feature.zero_crossing_rate(y)\n",
    "    mfcc = librosa.feature.mfcc(y=y, sr=sr)\n",
    "    to_append = f'{filename} {np.mean(chroma_stft)} {np.mean(rmse)} {np.mean(spec_cent)} {np.mean(spec_bw)} {np.mean(rolloff)} {np.mean(zcr)}'    \n",
    "    for e in mfcc:\n",
    "        to_append += f' {np.mean(e)}'\n",
    "    file = open('28spk_data.csv', 'a', newline='')\n",
    "    with file:\n",
    "        writer = csv.writer(file)\n",
    "        writer.writerow(to_append.split())"
   ]
  },
  {
   "cell_type": "code",
   "execution_count": 20,
   "metadata": {},
   "outputs": [],
   "source": [
    "clean_noisy_files_raw = pd.read_csv('28spk_data.csv')"
   ]
  },
  {
   "cell_type": "code",
   "execution_count": 21,
   "metadata": {},
   "outputs": [],
   "source": [
    "clean_noisy_files = clean_noisy_files_raw[:]"
   ]
  },
  {
   "cell_type": "code",
   "execution_count": 22,
   "metadata": {},
   "outputs": [
    {
     "name": "stdout",
     "output_type": "stream",
     "text": [
      "<class 'pandas.core.frame.DataFrame'>\n",
      "RangeIndex: 23144 entries, 0 to 23143\n",
      "Data columns (total 28 columns):\n",
      "filename              23144 non-null object\n",
      "chroma_stft           23144 non-null float64\n",
      "rmse                  23144 non-null float64\n",
      "spectral_centroid     23144 non-null float64\n",
      "spectral_bandwidth    23144 non-null float64\n",
      "rolloff               23144 non-null float64\n",
      "zero_crossing_rate    23144 non-null float64\n",
      "mfcc1                 23144 non-null float64\n",
      "mfcc2                 23144 non-null float64\n",
      "mfcc3                 23144 non-null float64\n",
      "mfcc4                 23144 non-null float64\n",
      "mfcc5                 23144 non-null float64\n",
      "mfcc6                 23144 non-null float64\n",
      "mfcc7                 23144 non-null float64\n",
      "mfcc8                 23144 non-null float64\n",
      "mfcc9                 23144 non-null float64\n",
      "mfcc10                23144 non-null float64\n",
      "mfcc11                23144 non-null float64\n",
      "mfcc12                23144 non-null float64\n",
      "mfcc13                23144 non-null float64\n",
      "mfcc14                23144 non-null float64\n",
      "mfcc15                23144 non-null float64\n",
      "mfcc16                23144 non-null float64\n",
      "mfcc17                23144 non-null float64\n",
      "mfcc18                23144 non-null float64\n",
      "mfcc19                23144 non-null float64\n",
      "mfcc20                23144 non-null float64\n",
      "label                 0 non-null float64\n",
      "dtypes: float64(27), object(1)\n",
      "memory usage: 4.9+ MB\n"
     ]
    }
   ],
   "source": [
    "clean_noisy_files.info()"
   ]
  },
  {
   "cell_type": "markdown",
   "metadata": {},
   "source": [
    "# Cleaning the 28 Speaker Data"
   ]
  },
  {
   "cell_type": "code",
   "execution_count": 27,
   "metadata": {},
   "outputs": [],
   "source": [
    "raw = pd.read_csv('28spk_data.csv')"
   ]
  },
  {
   "cell_type": "code",
   "execution_count": 28,
   "metadata": {},
   "outputs": [],
   "source": [
    "data = raw[:]"
   ]
  },
  {
   "cell_type": "code",
   "execution_count": 29,
   "metadata": {},
   "outputs": [
    {
     "data": {
      "text/html": [
       "<div>\n",
       "<style scoped>\n",
       "    .dataframe tbody tr th:only-of-type {\n",
       "        vertical-align: middle;\n",
       "    }\n",
       "\n",
       "    .dataframe tbody tr th {\n",
       "        vertical-align: top;\n",
       "    }\n",
       "\n",
       "    .dataframe thead th {\n",
       "        text-align: right;\n",
       "    }\n",
       "</style>\n",
       "<table border=\"1\" class=\"dataframe\">\n",
       "  <thead>\n",
       "    <tr style=\"text-align: right;\">\n",
       "      <th></th>\n",
       "      <th>filename</th>\n",
       "      <th>chroma_stft</th>\n",
       "      <th>rmse</th>\n",
       "      <th>spectral_centroid</th>\n",
       "      <th>spectral_bandwidth</th>\n",
       "      <th>rolloff</th>\n",
       "      <th>zero_crossing_rate</th>\n",
       "      <th>mfcc1</th>\n",
       "      <th>mfcc2</th>\n",
       "      <th>mfcc3</th>\n",
       "      <th>...</th>\n",
       "      <th>mfcc12</th>\n",
       "      <th>mfcc13</th>\n",
       "      <th>mfcc14</th>\n",
       "      <th>mfcc15</th>\n",
       "      <th>mfcc16</th>\n",
       "      <th>mfcc17</th>\n",
       "      <th>mfcc18</th>\n",
       "      <th>mfcc19</th>\n",
       "      <th>mfcc20</th>\n",
       "      <th>label</th>\n",
       "    </tr>\n",
       "  </thead>\n",
       "  <tbody>\n",
       "    <tr>\n",
       "      <th>14258</th>\n",
       "      <td>noisy_trainset_28/p287_265.wav</td>\n",
       "      <td>0.542186</td>\n",
       "      <td>0.055422</td>\n",
       "      <td>6872.434412</td>\n",
       "      <td>7497.795005</td>\n",
       "      <td>16533.733259</td>\n",
       "      <td>0.099667</td>\n",
       "      <td>-252.200943</td>\n",
       "      <td>81.607407</td>\n",
       "      <td>41.572041</td>\n",
       "      <td>...</td>\n",
       "      <td>3.080143</td>\n",
       "      <td>0.842458</td>\n",
       "      <td>1.269279</td>\n",
       "      <td>0.873045</td>\n",
       "      <td>6.491261</td>\n",
       "      <td>0.924503</td>\n",
       "      <td>1.968688</td>\n",
       "      <td>-0.643213</td>\n",
       "      <td>0.438778</td>\n",
       "      <td>NaN</td>\n",
       "    </tr>\n",
       "    <tr>\n",
       "      <th>13770</th>\n",
       "      <td>noisy_trainset_28/p279_399.wav</td>\n",
       "      <td>0.532378</td>\n",
       "      <td>0.040288</td>\n",
       "      <td>2784.830241</td>\n",
       "      <td>3984.006069</td>\n",
       "      <td>5550.764906</td>\n",
       "      <td>0.047047</td>\n",
       "      <td>-324.532379</td>\n",
       "      <td>150.839355</td>\n",
       "      <td>-0.964546</td>\n",
       "      <td>...</td>\n",
       "      <td>1.327030</td>\n",
       "      <td>1.094016</td>\n",
       "      <td>-0.051818</td>\n",
       "      <td>-1.919815</td>\n",
       "      <td>3.051743</td>\n",
       "      <td>0.101083</td>\n",
       "      <td>2.350171</td>\n",
       "      <td>1.988127</td>\n",
       "      <td>2.506015</td>\n",
       "      <td>NaN</td>\n",
       "    </tr>\n",
       "    <tr>\n",
       "      <th>11491</th>\n",
       "      <td>clean_trainset_28/p243_174.wav</td>\n",
       "      <td>0.531612</td>\n",
       "      <td>0.028062</td>\n",
       "      <td>2879.413591</td>\n",
       "      <td>4047.481166</td>\n",
       "      <td>6062.891408</td>\n",
       "      <td>0.047123</td>\n",
       "      <td>-430.659943</td>\n",
       "      <td>121.293335</td>\n",
       "      <td>8.742786</td>\n",
       "      <td>...</td>\n",
       "      <td>1.059086</td>\n",
       "      <td>1.733309</td>\n",
       "      <td>-0.332969</td>\n",
       "      <td>-4.634017</td>\n",
       "      <td>4.955334</td>\n",
       "      <td>6.859700</td>\n",
       "      <td>3.844966</td>\n",
       "      <td>4.006335</td>\n",
       "      <td>1.654880</td>\n",
       "      <td>NaN</td>\n",
       "    </tr>\n",
       "    <tr>\n",
       "      <th>19846</th>\n",
       "      <td>noisy_trainset_28/p243_089.wav</td>\n",
       "      <td>0.464737</td>\n",
       "      <td>0.062429</td>\n",
       "      <td>3527.077116</td>\n",
       "      <td>5288.964475</td>\n",
       "      <td>8053.442797</td>\n",
       "      <td>0.049402</td>\n",
       "      <td>-232.906113</td>\n",
       "      <td>132.213852</td>\n",
       "      <td>22.154440</td>\n",
       "      <td>...</td>\n",
       "      <td>-2.964419</td>\n",
       "      <td>4.532233</td>\n",
       "      <td>-1.078372</td>\n",
       "      <td>-1.597107</td>\n",
       "      <td>7.509468</td>\n",
       "      <td>0.286838</td>\n",
       "      <td>4.361313</td>\n",
       "      <td>2.459123</td>\n",
       "      <td>2.798868</td>\n",
       "      <td>NaN</td>\n",
       "    </tr>\n",
       "    <tr>\n",
       "      <th>5399</th>\n",
       "      <td>clean_trainset_28/p282_183.wav</td>\n",
       "      <td>0.512653</td>\n",
       "      <td>0.037241</td>\n",
       "      <td>3617.724327</td>\n",
       "      <td>4809.851047</td>\n",
       "      <td>8029.455236</td>\n",
       "      <td>0.053335</td>\n",
       "      <td>-417.676514</td>\n",
       "      <td>106.744125</td>\n",
       "      <td>11.309994</td>\n",
       "      <td>...</td>\n",
       "      <td>3.495880</td>\n",
       "      <td>-0.723355</td>\n",
       "      <td>2.824453</td>\n",
       "      <td>1.557511</td>\n",
       "      <td>5.650749</td>\n",
       "      <td>7.452435</td>\n",
       "      <td>5.097755</td>\n",
       "      <td>2.678947</td>\n",
       "      <td>1.650498</td>\n",
       "      <td>NaN</td>\n",
       "    </tr>\n",
       "  </tbody>\n",
       "</table>\n",
       "<p>5 rows × 28 columns</p>\n",
       "</div>"
      ],
      "text/plain": [
       "                             filename  chroma_stft      rmse  \\\n",
       "14258  noisy_trainset_28/p287_265.wav     0.542186  0.055422   \n",
       "13770  noisy_trainset_28/p279_399.wav     0.532378  0.040288   \n",
       "11491  clean_trainset_28/p243_174.wav     0.531612  0.028062   \n",
       "19846  noisy_trainset_28/p243_089.wav     0.464737  0.062429   \n",
       "5399   clean_trainset_28/p282_183.wav     0.512653  0.037241   \n",
       "\n",
       "       spectral_centroid  spectral_bandwidth       rolloff  \\\n",
       "14258        6872.434412         7497.795005  16533.733259   \n",
       "13770        2784.830241         3984.006069   5550.764906   \n",
       "11491        2879.413591         4047.481166   6062.891408   \n",
       "19846        3527.077116         5288.964475   8053.442797   \n",
       "5399         3617.724327         4809.851047   8029.455236   \n",
       "\n",
       "       zero_crossing_rate       mfcc1       mfcc2      mfcc3  ...    mfcc12  \\\n",
       "14258            0.099667 -252.200943   81.607407  41.572041  ...  3.080143   \n",
       "13770            0.047047 -324.532379  150.839355  -0.964546  ...  1.327030   \n",
       "11491            0.047123 -430.659943  121.293335   8.742786  ...  1.059086   \n",
       "19846            0.049402 -232.906113  132.213852  22.154440  ... -2.964419   \n",
       "5399             0.053335 -417.676514  106.744125  11.309994  ...  3.495880   \n",
       "\n",
       "         mfcc13    mfcc14    mfcc15    mfcc16    mfcc17    mfcc18    mfcc19  \\\n",
       "14258  0.842458  1.269279  0.873045  6.491261  0.924503  1.968688 -0.643213   \n",
       "13770  1.094016 -0.051818 -1.919815  3.051743  0.101083  2.350171  1.988127   \n",
       "11491  1.733309 -0.332969 -4.634017  4.955334  6.859700  3.844966  4.006335   \n",
       "19846  4.532233 -1.078372 -1.597107  7.509468  0.286838  4.361313  2.459123   \n",
       "5399  -0.723355  2.824453  1.557511  5.650749  7.452435  5.097755  2.678947   \n",
       "\n",
       "         mfcc20  label  \n",
       "14258  0.438778    NaN  \n",
       "13770  2.506015    NaN  \n",
       "11491  1.654880    NaN  \n",
       "19846  2.798868    NaN  \n",
       "5399   1.650498    NaN  \n",
       "\n",
       "[5 rows x 28 columns]"
      ]
     },
     "execution_count": 29,
     "metadata": {},
     "output_type": "execute_result"
    }
   ],
   "source": [
    "data.sample(5)"
   ]
  },
  {
   "cell_type": "code",
   "execution_count": 30,
   "metadata": {},
   "outputs": [],
   "source": [
    "data.loc[:11572, 'label'] = 'clean'\n",
    "data.loc[11572:23144, 'label'] = 'noisy'\n",
    "data.drop(columns=['filename'], inplace=True)"
   ]
  },
  {
   "cell_type": "code",
   "execution_count": 31,
   "metadata": {},
   "outputs": [
    {
     "data": {
      "text/html": [
       "<div>\n",
       "<style scoped>\n",
       "    .dataframe tbody tr th:only-of-type {\n",
       "        vertical-align: middle;\n",
       "    }\n",
       "\n",
       "    .dataframe tbody tr th {\n",
       "        vertical-align: top;\n",
       "    }\n",
       "\n",
       "    .dataframe thead th {\n",
       "        text-align: right;\n",
       "    }\n",
       "</style>\n",
       "<table border=\"1\" class=\"dataframe\">\n",
       "  <thead>\n",
       "    <tr style=\"text-align: right;\">\n",
       "      <th></th>\n",
       "      <th>chroma_stft</th>\n",
       "      <th>rmse</th>\n",
       "      <th>spectral_centroid</th>\n",
       "      <th>spectral_bandwidth</th>\n",
       "      <th>rolloff</th>\n",
       "      <th>zero_crossing_rate</th>\n",
       "      <th>mfcc1</th>\n",
       "      <th>mfcc2</th>\n",
       "      <th>mfcc3</th>\n",
       "      <th>mfcc4</th>\n",
       "      <th>...</th>\n",
       "      <th>mfcc12</th>\n",
       "      <th>mfcc13</th>\n",
       "      <th>mfcc14</th>\n",
       "      <th>mfcc15</th>\n",
       "      <th>mfcc16</th>\n",
       "      <th>mfcc17</th>\n",
       "      <th>mfcc18</th>\n",
       "      <th>mfcc19</th>\n",
       "      <th>mfcc20</th>\n",
       "      <th>label</th>\n",
       "    </tr>\n",
       "  </thead>\n",
       "  <tbody>\n",
       "    <tr>\n",
       "      <th>16770</th>\n",
       "      <td>0.587732</td>\n",
       "      <td>0.039892</td>\n",
       "      <td>2036.637640</td>\n",
       "      <td>3440.046670</td>\n",
       "      <td>4017.762382</td>\n",
       "      <td>0.023127</td>\n",
       "      <td>-336.834991</td>\n",
       "      <td>163.122025</td>\n",
       "      <td>-7.382974</td>\n",
       "      <td>27.305593</td>\n",
       "      <td>...</td>\n",
       "      <td>-1.620144</td>\n",
       "      <td>6.097378</td>\n",
       "      <td>2.820686</td>\n",
       "      <td>-1.385319</td>\n",
       "      <td>7.445633</td>\n",
       "      <td>2.769529</td>\n",
       "      <td>7.351555</td>\n",
       "      <td>3.950179</td>\n",
       "      <td>2.639145</td>\n",
       "      <td>noisy</td>\n",
       "    </tr>\n",
       "    <tr>\n",
       "      <th>13249</th>\n",
       "      <td>0.481204</td>\n",
       "      <td>0.049380</td>\n",
       "      <td>3543.771134</td>\n",
       "      <td>4843.508076</td>\n",
       "      <td>7609.397777</td>\n",
       "      <td>0.054075</td>\n",
       "      <td>-301.404388</td>\n",
       "      <td>130.364380</td>\n",
       "      <td>16.347050</td>\n",
       "      <td>25.645855</td>\n",
       "      <td>...</td>\n",
       "      <td>-1.668447</td>\n",
       "      <td>1.851461</td>\n",
       "      <td>-3.320331</td>\n",
       "      <td>-2.230459</td>\n",
       "      <td>4.501845</td>\n",
       "      <td>0.803982</td>\n",
       "      <td>2.087426</td>\n",
       "      <td>2.516221</td>\n",
       "      <td>2.349015</td>\n",
       "      <td>noisy</td>\n",
       "    </tr>\n",
       "    <tr>\n",
       "      <th>17786</th>\n",
       "      <td>0.585121</td>\n",
       "      <td>0.052093</td>\n",
       "      <td>2840.853957</td>\n",
       "      <td>4610.744089</td>\n",
       "      <td>6742.105263</td>\n",
       "      <td>0.026920</td>\n",
       "      <td>-305.510468</td>\n",
       "      <td>128.536026</td>\n",
       "      <td>7.148754</td>\n",
       "      <td>27.587818</td>\n",
       "      <td>...</td>\n",
       "      <td>-1.234255</td>\n",
       "      <td>2.484422</td>\n",
       "      <td>4.036513</td>\n",
       "      <td>5.147472</td>\n",
       "      <td>8.244612</td>\n",
       "      <td>1.414870</td>\n",
       "      <td>6.292882</td>\n",
       "      <td>2.195626</td>\n",
       "      <td>2.601966</td>\n",
       "      <td>noisy</td>\n",
       "    </tr>\n",
       "    <tr>\n",
       "      <th>2165</th>\n",
       "      <td>0.564592</td>\n",
       "      <td>0.043733</td>\n",
       "      <td>3296.579153</td>\n",
       "      <td>5270.675099</td>\n",
       "      <td>7344.932432</td>\n",
       "      <td>0.041829</td>\n",
       "      <td>-415.661743</td>\n",
       "      <td>117.892311</td>\n",
       "      <td>18.294868</td>\n",
       "      <td>-1.413048</td>\n",
       "      <td>...</td>\n",
       "      <td>6.516280</td>\n",
       "      <td>5.298056</td>\n",
       "      <td>3.997051</td>\n",
       "      <td>6.684927</td>\n",
       "      <td>3.981073</td>\n",
       "      <td>3.961036</td>\n",
       "      <td>7.776460</td>\n",
       "      <td>-2.817921</td>\n",
       "      <td>2.608601</td>\n",
       "      <td>clean</td>\n",
       "    </tr>\n",
       "    <tr>\n",
       "      <th>18096</th>\n",
       "      <td>0.553156</td>\n",
       "      <td>0.050131</td>\n",
       "      <td>2704.091983</td>\n",
       "      <td>4815.824596</td>\n",
       "      <td>5270.952722</td>\n",
       "      <td>0.025332</td>\n",
       "      <td>-401.197693</td>\n",
       "      <td>121.124977</td>\n",
       "      <td>31.796778</td>\n",
       "      <td>21.176693</td>\n",
       "      <td>...</td>\n",
       "      <td>4.306190</td>\n",
       "      <td>-0.909548</td>\n",
       "      <td>0.756739</td>\n",
       "      <td>3.670705</td>\n",
       "      <td>3.323117</td>\n",
       "      <td>3.793585</td>\n",
       "      <td>6.084056</td>\n",
       "      <td>2.858170</td>\n",
       "      <td>2.079965</td>\n",
       "      <td>noisy</td>\n",
       "    </tr>\n",
       "    <tr>\n",
       "      <th>16471</th>\n",
       "      <td>0.512552</td>\n",
       "      <td>0.079777</td>\n",
       "      <td>2750.439218</td>\n",
       "      <td>4049.467206</td>\n",
       "      <td>4485.143175</td>\n",
       "      <td>0.040562</td>\n",
       "      <td>-348.063293</td>\n",
       "      <td>125.178841</td>\n",
       "      <td>25.124718</td>\n",
       "      <td>17.835197</td>\n",
       "      <td>...</td>\n",
       "      <td>3.174636</td>\n",
       "      <td>2.529017</td>\n",
       "      <td>7.808466</td>\n",
       "      <td>9.642412</td>\n",
       "      <td>8.399709</td>\n",
       "      <td>6.106608</td>\n",
       "      <td>4.379020</td>\n",
       "      <td>5.946018</td>\n",
       "      <td>-0.352054</td>\n",
       "      <td>noisy</td>\n",
       "    </tr>\n",
       "    <tr>\n",
       "      <th>12538</th>\n",
       "      <td>0.647343</td>\n",
       "      <td>0.059431</td>\n",
       "      <td>2663.149505</td>\n",
       "      <td>4714.637783</td>\n",
       "      <td>6041.374362</td>\n",
       "      <td>0.023766</td>\n",
       "      <td>-379.764832</td>\n",
       "      <td>128.660843</td>\n",
       "      <td>25.978798</td>\n",
       "      <td>31.081997</td>\n",
       "      <td>...</td>\n",
       "      <td>6.517072</td>\n",
       "      <td>0.966489</td>\n",
       "      <td>-1.366649</td>\n",
       "      <td>1.749095</td>\n",
       "      <td>6.400992</td>\n",
       "      <td>4.582907</td>\n",
       "      <td>0.554323</td>\n",
       "      <td>6.808609</td>\n",
       "      <td>2.167716</td>\n",
       "      <td>noisy</td>\n",
       "    </tr>\n",
       "    <tr>\n",
       "      <th>5396</th>\n",
       "      <td>0.679160</td>\n",
       "      <td>0.021246</td>\n",
       "      <td>3663.455553</td>\n",
       "      <td>5807.609560</td>\n",
       "      <td>9678.515625</td>\n",
       "      <td>0.026093</td>\n",
       "      <td>-526.164734</td>\n",
       "      <td>85.653648</td>\n",
       "      <td>16.500048</td>\n",
       "      <td>16.419291</td>\n",
       "      <td>...</td>\n",
       "      <td>5.670100</td>\n",
       "      <td>4.137560</td>\n",
       "      <td>5.301795</td>\n",
       "      <td>5.128245</td>\n",
       "      <td>6.974859</td>\n",
       "      <td>2.737648</td>\n",
       "      <td>5.163618</td>\n",
       "      <td>6.731500</td>\n",
       "      <td>2.993042</td>\n",
       "      <td>clean</td>\n",
       "    </tr>\n",
       "    <tr>\n",
       "      <th>12244</th>\n",
       "      <td>0.596100</td>\n",
       "      <td>0.037858</td>\n",
       "      <td>2386.339493</td>\n",
       "      <td>3841.322264</td>\n",
       "      <td>4035.856214</td>\n",
       "      <td>0.034517</td>\n",
       "      <td>-405.853943</td>\n",
       "      <td>128.113235</td>\n",
       "      <td>16.152216</td>\n",
       "      <td>17.460419</td>\n",
       "      <td>...</td>\n",
       "      <td>5.250057</td>\n",
       "      <td>-0.164499</td>\n",
       "      <td>0.542090</td>\n",
       "      <td>2.390980</td>\n",
       "      <td>6.543499</td>\n",
       "      <td>3.538058</td>\n",
       "      <td>1.757907</td>\n",
       "      <td>6.909842</td>\n",
       "      <td>1.801644</td>\n",
       "      <td>noisy</td>\n",
       "    </tr>\n",
       "    <tr>\n",
       "      <th>10623</th>\n",
       "      <td>0.555899</td>\n",
       "      <td>0.036459</td>\n",
       "      <td>3779.386120</td>\n",
       "      <td>5431.689262</td>\n",
       "      <td>9038.717196</td>\n",
       "      <td>0.042464</td>\n",
       "      <td>-428.176270</td>\n",
       "      <td>90.759888</td>\n",
       "      <td>14.196130</td>\n",
       "      <td>13.324111</td>\n",
       "      <td>...</td>\n",
       "      <td>2.786685</td>\n",
       "      <td>2.281031</td>\n",
       "      <td>3.356997</td>\n",
       "      <td>-0.273339</td>\n",
       "      <td>2.193359</td>\n",
       "      <td>5.937977</td>\n",
       "      <td>4.740649</td>\n",
       "      <td>0.523773</td>\n",
       "      <td>3.104709</td>\n",
       "      <td>clean</td>\n",
       "    </tr>\n",
       "  </tbody>\n",
       "</table>\n",
       "<p>10 rows × 27 columns</p>\n",
       "</div>"
      ],
      "text/plain": [
       "       chroma_stft      rmse  spectral_centroid  spectral_bandwidth  \\\n",
       "16770     0.587732  0.039892        2036.637640         3440.046670   \n",
       "13249     0.481204  0.049380        3543.771134         4843.508076   \n",
       "17786     0.585121  0.052093        2840.853957         4610.744089   \n",
       "2165      0.564592  0.043733        3296.579153         5270.675099   \n",
       "18096     0.553156  0.050131        2704.091983         4815.824596   \n",
       "16471     0.512552  0.079777        2750.439218         4049.467206   \n",
       "12538     0.647343  0.059431        2663.149505         4714.637783   \n",
       "5396      0.679160  0.021246        3663.455553         5807.609560   \n",
       "12244     0.596100  0.037858        2386.339493         3841.322264   \n",
       "10623     0.555899  0.036459        3779.386120         5431.689262   \n",
       "\n",
       "           rolloff  zero_crossing_rate       mfcc1       mfcc2      mfcc3  \\\n",
       "16770  4017.762382            0.023127 -336.834991  163.122025  -7.382974   \n",
       "13249  7609.397777            0.054075 -301.404388  130.364380  16.347050   \n",
       "17786  6742.105263            0.026920 -305.510468  128.536026   7.148754   \n",
       "2165   7344.932432            0.041829 -415.661743  117.892311  18.294868   \n",
       "18096  5270.952722            0.025332 -401.197693  121.124977  31.796778   \n",
       "16471  4485.143175            0.040562 -348.063293  125.178841  25.124718   \n",
       "12538  6041.374362            0.023766 -379.764832  128.660843  25.978798   \n",
       "5396   9678.515625            0.026093 -526.164734   85.653648  16.500048   \n",
       "12244  4035.856214            0.034517 -405.853943  128.113235  16.152216   \n",
       "10623  9038.717196            0.042464 -428.176270   90.759888  14.196130   \n",
       "\n",
       "           mfcc4  ...    mfcc12    mfcc13    mfcc14    mfcc15    mfcc16  \\\n",
       "16770  27.305593  ... -1.620144  6.097378  2.820686 -1.385319  7.445633   \n",
       "13249  25.645855  ... -1.668447  1.851461 -3.320331 -2.230459  4.501845   \n",
       "17786  27.587818  ... -1.234255  2.484422  4.036513  5.147472  8.244612   \n",
       "2165   -1.413048  ...  6.516280  5.298056  3.997051  6.684927  3.981073   \n",
       "18096  21.176693  ...  4.306190 -0.909548  0.756739  3.670705  3.323117   \n",
       "16471  17.835197  ...  3.174636  2.529017  7.808466  9.642412  8.399709   \n",
       "12538  31.081997  ...  6.517072  0.966489 -1.366649  1.749095  6.400992   \n",
       "5396   16.419291  ...  5.670100  4.137560  5.301795  5.128245  6.974859   \n",
       "12244  17.460419  ...  5.250057 -0.164499  0.542090  2.390980  6.543499   \n",
       "10623  13.324111  ...  2.786685  2.281031  3.356997 -0.273339  2.193359   \n",
       "\n",
       "         mfcc17    mfcc18    mfcc19    mfcc20  label  \n",
       "16770  2.769529  7.351555  3.950179  2.639145  noisy  \n",
       "13249  0.803982  2.087426  2.516221  2.349015  noisy  \n",
       "17786  1.414870  6.292882  2.195626  2.601966  noisy  \n",
       "2165   3.961036  7.776460 -2.817921  2.608601  clean  \n",
       "18096  3.793585  6.084056  2.858170  2.079965  noisy  \n",
       "16471  6.106608  4.379020  5.946018 -0.352054  noisy  \n",
       "12538  4.582907  0.554323  6.808609  2.167716  noisy  \n",
       "5396   2.737648  5.163618  6.731500  2.993042  clean  \n",
       "12244  3.538058  1.757907  6.909842  1.801644  noisy  \n",
       "10623  5.937977  4.740649  0.523773  3.104709  clean  \n",
       "\n",
       "[10 rows x 27 columns]"
      ]
     },
     "execution_count": 31,
     "metadata": {},
     "output_type": "execute_result"
    }
   ],
   "source": [
    "data.sample(10)"
   ]
  },
  {
   "cell_type": "code",
   "execution_count": 32,
   "metadata": {},
   "outputs": [],
   "source": [
    "data.to_csv('28spk_clean_data.csv')"
   ]
  },
  {
   "cell_type": "markdown",
   "metadata": {},
   "source": [
    "# Training the 28 Speaker Model"
   ]
  },
  {
   "cell_type": "code",
   "execution_count": 33,
   "metadata": {},
   "outputs": [],
   "source": [
    "type_list = data.iloc[:, -1]\n",
    "encoder = LabelEncoder()\n",
    "y = encoder.fit_transform(type_list)"
   ]
  },
  {
   "cell_type": "code",
   "execution_count": 34,
   "metadata": {},
   "outputs": [],
   "source": [
    "scaler = StandardScaler()\n",
    "X = scaler.fit_transform(np.array(data.iloc[:, :-1], dtype = float))"
   ]
  },
  {
   "cell_type": "code",
   "execution_count": 35,
   "metadata": {},
   "outputs": [],
   "source": [
    "X_train, X_test, y_train, y_test = train_test_split(X, y, test_size=0.2)"
   ]
  },
  {
   "cell_type": "code",
   "execution_count": 36,
   "metadata": {},
   "outputs": [
    {
     "name": "stdout",
     "output_type": "stream",
     "text": [
      "18515\n",
      "18515\n"
     ]
    }
   ],
   "source": [
    "print(len(X_train))\n",
    "print(len(y_train))"
   ]
  },
  {
   "cell_type": "code",
   "execution_count": 37,
   "metadata": {},
   "outputs": [
    {
     "name": "stdout",
     "output_type": "stream",
     "text": [
      "4629\n",
      "4629\n"
     ]
    }
   ],
   "source": [
    "print(len(X_test))\n",
    "print(len(y_test))"
   ]
  },
  {
   "cell_type": "code",
   "execution_count": 38,
   "metadata": {},
   "outputs": [],
   "source": [
    "model = models.Sequential()\n",
    "model.add(layers.Dense(256, activation='relu', input_shape=(X_train.shape[1],)))\n",
    "\n",
    "model.add(layers.Dense(128, activation='relu'))\n",
    "\n",
    "# model.add(layers.Dense(32, activation='relu'))\n",
    "\n",
    "# model.add(layers.Dense(16, activation='sigmoid'))\n",
    "\n",
    "model.add(layers.Dense(2, activation='softmax'))"
   ]
  },
  {
   "cell_type": "code",
   "execution_count": 39,
   "metadata": {},
   "outputs": [
    {
     "name": "stdout",
     "output_type": "stream",
     "text": [
      "Model: \"sequential_1\"\n",
      "_________________________________________________________________\n",
      "Layer (type)                 Output Shape              Param #   \n",
      "=================================================================\n",
      "dense_1 (Dense)              (None, 256)               6912      \n",
      "_________________________________________________________________\n",
      "dense_2 (Dense)              (None, 128)               32896     \n",
      "_________________________________________________________________\n",
      "dense_3 (Dense)              (None, 2)                 258       \n",
      "=================================================================\n",
      "Total params: 40,066\n",
      "Trainable params: 40,066\n",
      "Non-trainable params: 0\n",
      "_________________________________________________________________\n"
     ]
    }
   ],
   "source": [
    "model.summary()"
   ]
  },
  {
   "cell_type": "code",
   "execution_count": 40,
   "metadata": {},
   "outputs": [],
   "source": [
    "model.compile(optimizer='adam',\n",
    "              loss='sparse_categorical_crossentropy',\n",
    "              metrics=['accuracy'])"
   ]
  },
  {
   "cell_type": "code",
   "execution_count": 41,
   "metadata": {},
   "outputs": [
    {
     "name": "stdout",
     "output_type": "stream",
     "text": [
      "Epoch 1/20\n",
      "18515/18515 [==============================] - 1s 31us/step - loss: 0.0902 - accuracy: 0.9660\n",
      "Epoch 2/20\n",
      "18515/18515 [==============================] - 0s 16us/step - loss: 0.0195 - accuracy: 0.9938\n",
      "Epoch 3/20\n",
      "18515/18515 [==============================] - 0s 16us/step - loss: 0.0136 - accuracy: 0.9954\n",
      "Epoch 4/20\n",
      "18515/18515 [==============================] - 0s 20us/step - loss: 0.0101 - accuracy: 0.9964\n",
      "Epoch 5/20\n",
      "18515/18515 [==============================] - 0s 18us/step - loss: 0.0092 - accuracy: 0.9971\n",
      "Epoch 6/20\n",
      "18515/18515 [==============================] - 0s 20us/step - loss: 0.0066 - accuracy: 0.9975\n",
      "Epoch 7/20\n",
      "18515/18515 [==============================] - 0s 15us/step - loss: 0.0065 - accuracy: 0.9979\n",
      "Epoch 8/20\n",
      "18515/18515 [==============================] - 0s 16us/step - loss: 0.0052 - accuracy: 0.9982\n",
      "Epoch 9/20\n",
      "18515/18515 [==============================] - 0s 16us/step - loss: 0.0039 - accuracy: 0.9990\n",
      "Epoch 10/20\n",
      "18515/18515 [==============================] - 0s 19us/step - loss: 0.0033 - accuracy: 0.9989\n",
      "Epoch 11/20\n",
      "18515/18515 [==============================] - 0s 18us/step - loss: 0.0041 - accuracy: 0.9983\n",
      "Epoch 12/20\n",
      "18515/18515 [==============================] - 0s 19us/step - loss: 0.0036 - accuracy: 0.9986\n",
      "Epoch 13/20\n",
      "18515/18515 [==============================] - 0s 16us/step - loss: 0.0026 - accuracy: 0.9992\n",
      "Epoch 14/20\n",
      "18515/18515 [==============================] - 0s 15us/step - loss: 0.0030 - accuracy: 0.9990\n",
      "Epoch 15/20\n",
      "18515/18515 [==============================] - 0s 15us/step - loss: 0.0021 - accuracy: 0.9990\n",
      "Epoch 16/20\n",
      "18515/18515 [==============================] - 0s 15us/step - loss: 0.0026 - accuracy: 0.9989\n",
      "Epoch 17/20\n",
      "18515/18515 [==============================] - 0s 15us/step - loss: 0.0014 - accuracy: 0.9995\n",
      "Epoch 18/20\n",
      "18515/18515 [==============================] - 0s 15us/step - loss: 7.3115e-04 - accuracy: 0.9999\n",
      "Epoch 19/20\n",
      "18515/18515 [==============================] - 0s 16us/step - loss: 0.0045 - accuracy: 0.9989\n",
      "Epoch 20/20\n",
      "18515/18515 [==============================] - 0s 16us/step - loss: 0.0049 - accuracy: 0.9983\n"
     ]
    }
   ],
   "source": [
    "history = model.fit(X_train,\n",
    "                    y_train,\n",
    "                    epochs=20,\n",
    "                    batch_size=128,\n",
    "                   )"
   ]
  },
  {
   "cell_type": "code",
   "execution_count": 42,
   "metadata": {},
   "outputs": [
    {
     "data": {
      "text/plain": [
       "Text(0, 0.5, 'Loss')"
      ]
     },
     "execution_count": 42,
     "metadata": {},
     "output_type": "execute_result"
    },
    {
     "data": {
      "image/png": "[encoded data removed]",
      "text/plain": [
       "<Figure size 720x432 with 1 Axes>"
      ]
     },
     "metadata": {
      "needs_background": "light"
     },
     "output_type": "display_data"
    }
   ],
   "source": [
    "plt.figure(figsize=(10,6))\n",
    "plt.title(\"Training loss\")\n",
    "plt.plot( history.history[\"loss\"] )\n",
    "plt.xlabel(\"Epochs\")\n",
    "plt.ylabel(\"Loss\")"
   ]
  },
  {
   "cell_type": "code",
   "execution_count": 43,
   "metadata": {},
   "outputs": [
    {
     "data": {
      "text/plain": [
       "Text(0, 0.5, 'Accuracy')"
      ]
     },
     "execution_count": 43,
     "metadata": {},
     "output_type": "execute_result"
    },
    {
     "data": {
      "image/png": "[encoded data removed]",
      "text/plain": [
       "<Figure size 720x432 with 1 Axes>"
      ]
     },
     "metadata": {
      "needs_background": "light"
     },
     "output_type": "display_data"
    }
   ],
   "source": [
    "plt.figure(figsize=(10,6))\n",
    "plt.title(\"Training Accuracy\")\n",
    "plt.plot( history.history['accuracy'] )\n",
    "plt.xlabel(\"Epochs\")\n",
    "plt.ylabel(\"Accuracy\")"
   ]
  },
  {
   "cell_type": "code",
   "execution_count": 44,
   "metadata": {},
   "outputs": [
    {
     "name": "stdout",
     "output_type": "stream",
     "text": [
      "4629/4629 [==============================] - 0s 29us/step\n"
     ]
    }
   ],
   "source": [
    "test_loss, test_acc = model.evaluate(X_test,y_test)"
   ]
  },
  {
   "cell_type": "code",
   "execution_count": 45,
   "metadata": {},
   "outputs": [
    {
     "name": "stdout",
     "output_type": "stream",
     "text": [
      "test_acc:  0.9954633712768555\n",
      "test_loss:  0.010576681140647267\n"
     ]
    }
   ],
   "source": [
    "print('test_acc: ',test_acc)\n",
    "print('test_loss: ',test_loss)"
   ]
  },
  {
   "cell_type": "markdown",
   "metadata": {},
   "source": [
    "# Logistic and Random Forest Classification"
   ]
  },
  {
   "cell_type": "code",
   "execution_count": 46,
   "metadata": {},
   "outputs": [],
   "source": [
    "from sklearn.linear_model import LogisticRegression\n",
    "from sklearn.ensemble import RandomForestClassifier\n",
    "from sklearn.metrics import accuracy_score, confusion_matrix, classification_report, roc_curve, roc_auc_score\n",
    "from sklearn.metrics import precision_recall_curve, f1_score, auc, log_loss"
   ]
  },
  {
   "cell_type": "code",
   "execution_count": 47,
   "metadata": {},
   "outputs": [
    {
     "name": "stdout",
     "output_type": "stream",
     "text": [
      "Accuracy:  0.9889825016202204\n",
      "Confusion Matrix:  [[2322   12]\n",
      " [  39 2256]]\n",
      "Report:                precision    recall  f1-score   support\n",
      "\n",
      "           0       0.98      0.99      0.99      2334\n",
      "           1       0.99      0.98      0.99      2295\n",
      "\n",
      "    accuracy                           0.99      4629\n",
      "   macro avg       0.99      0.99      0.99      4629\n",
      "weighted avg       0.99      0.99      0.99      4629\n",
      "\n"
     ]
    }
   ],
   "source": [
    "'''\n",
    "\n",
    "Fitting Logistic Regression Model\n",
    "\n",
    "'''\n",
    "\n",
    "# for i in [0.01, 0.05, 0.25, 0.5, 1]:\n",
    "lr = LogisticRegression(C=0.1)\n",
    "lr.fit(X_train, y_train)\n",
    "lr_pred = lr.predict(X_test)\n",
    "lr_probs = lr.predict_proba(X_test)\n",
    "\n",
    "print(\"Accuracy: \", accuracy_score(y_test, lr_pred))\n",
    "print(\"Confusion Matrix: \",(confusion_matrix(y_test, lr_pred)))\n",
    "print(\"Report: \",(classification_report(y_test, lr_pred)))"
   ]
  },
  {
   "cell_type": "code",
   "execution_count": 48,
   "metadata": {},
   "outputs": [
    {
     "name": "stdout",
     "output_type": "stream",
     "text": [
      "211.99989616361552\n",
      "0.04579820612737427\n"
     ]
    }
   ],
   "source": [
    "'''\n",
    "\n",
    "Calculate Log-Loss\n",
    "\n",
    "'''\n",
    "\n",
    "print(log_loss(y_test, lr_probs, normalize=False))\n",
    "print(log_loss(y_test, lr_probs))"
   ]
  },
  {
   "cell_type": "code",
   "execution_count": 49,
   "metadata": {},
   "outputs": [
    {
     "name": "stdout",
     "output_type": "stream",
     "text": [
      "Accuracy:  0.9917908835601642\n"
     ]
    }
   ],
   "source": [
    "'''\n",
    "\n",
    "Fitting Random Forest Classifier\n",
    "\n",
    "'''\n",
    "\n",
    "rf = RandomForestClassifier()\n",
    "rf.fit(X_train, y_train)\n",
    "\n",
    "rf_pred = rf.predict(X_test)\n",
    "\n",
    "print(\"Accuracy: \", accuracy_score(y_test, rf_pred))"
   ]
  },
  {
   "cell_type": "code",
   "execution_count": 50,
   "metadata": {},
   "outputs": [
    {
     "name": "stdout",
     "output_type": "stream",
     "text": [
      "No Skill: ROC AUC=0.500\n",
      "Logistic: ROC AUC=0.999\n",
      "Random Forest: ROC AUC=0.999\n"
     ]
    },
    {
     "data": {
      "image/png": "[encoded data removed]",
      "text/plain": [
       "<Figure size 1296x720 with 1 Axes>"
      ]
     },
     "metadata": {
      "needs_background": "light"
     },
     "output_type": "display_data"
    }
   ],
   "source": [
    "'''\n",
    "\n",
    "Plot ROC curve after fitting a model\n",
    "\n",
    "'''\n",
    "\n",
    "# generate a no skill prediction (majority class)\n",
    "ns_probs = [0 for _ in range(len(y_test))]\n",
    "\n",
    "# Predict Probabilities\n",
    "lr_probs = lr.predict_proba(X_test)\n",
    "rf_probs = rf.predict_proba(X_test)\n",
    "\n",
    "# keep probabilities for the positive outcome only\n",
    "lr_probs = lr_probs[:, 1]\n",
    "rf_probs = rf_probs[:, 1]\n",
    "\n",
    "# calculate scores\n",
    "ns_auc = roc_auc_score(y_test, ns_probs)\n",
    "lr_auc = roc_auc_score(y_test, lr_probs)\n",
    "rf_auc = roc_auc_score(y_test, rf_probs)\n",
    "\n",
    "# summarize scores\n",
    "print('No Skill: ROC AUC=%.3f' % (ns_auc))\n",
    "print('Logistic: ROC AUC=%.3f' % (lr_auc))\n",
    "print('Random Forest: ROC AUC=%.3f' % (rf_auc))\n",
    "\n",
    "# calculate roc curves\n",
    "ns_fpr, ns_tpr, _ = roc_curve(y_test, ns_probs)\n",
    "lr_fpr, lr_tpr, _ = roc_curve(y_test, lr_probs)\n",
    "rf_fpr, rf_tpr, _ = roc_curve(y_test, rf_probs)\n",
    "\n",
    "# plot the roc curve for the model\n",
    "f1,ax1 = plt.subplots(figsize =(18,10))\n",
    "ax1.plot(ns_fpr, ns_tpr, linestyle='--', label='No Skill')\n",
    "ax1.plot(lr_fpr, lr_tpr, label='Logistic')\n",
    "ax1.plot(rf_fpr, rf_tpr, label='Random Forest')\n",
    "\n",
    "# axis labels\n",
    "plt.xlabel('False Positive Rate')\n",
    "plt.ylabel('True Positive Rate')\n",
    "\n",
    "plt.legend()\n",
    "plt.title('ROC Curve: Different Classification Models', fontsize=20)\n",
    "# plt.savefig('ROC_classification_models.png')\n",
    "plt.show();"
   ]
  },
  {
   "cell_type": "code",
   "execution_count": 51,
   "metadata": {},
   "outputs": [
    {
     "name": "stdout",
     "output_type": "stream",
     "text": [
      "Logistic: f1=0.989 auc=0.999\n",
      "Random Forest: f1=0.992 auc=0.999\n"
     ]
    },
    {
     "data": {
      "image/png": "[encoded data removed]",
      "text/plain": [
       "<Figure size 1296x720 with 1 Axes>"
      ]
     },
     "metadata": {
      "needs_background": "light"
     },
     "output_type": "display_data"
    }
   ],
   "source": [
    "'''\n",
    "\n",
    "Plot Precision-Recall curve after fitting a model\n",
    "\n",
    "'''\n",
    "\n",
    "# predict class values\n",
    "\n",
    "lr_precision, lr_recall, _ = precision_recall_curve(y_test, lr_probs)\n",
    "lr_f1, lr_auc = f1_score(y_test, lr_pred), auc(lr_recall, lr_precision)\n",
    "\n",
    "rf_precision, rf_recall, _ = precision_recall_curve(y_test, rf_probs)\n",
    "rf_f1, rf_auc = f1_score(y_test, rf_pred), auc(rf_recall, rf_precision)\n",
    "\n",
    "# summarize scores\n",
    "print('Logistic: f1=%.3f auc=%.3f' % (lr_f1, lr_auc))\n",
    "print('Random Forest: f1=%.3f auc=%.3f' % (rf_f1, rf_auc))\n",
    "\n",
    "# plot the precision-recall curves\n",
    "no_skill = len(y_test[y_test==1]) / len(y_test)\n",
    "\n",
    "f2,ax2 = plt.subplots(figsize =(18,10))\n",
    "ax2.plot([0, 1], [no_skill, no_skill], linestyle='--', label='No Skill')\n",
    "ax2.plot(lr_recall, lr_precision, label='Logistic')\n",
    "ax2.plot(rf_recall, rf_precision, label='Random Forest')\n",
    "\n",
    "\n",
    "# axis labels\n",
    "plt.xlabel('Recall')\n",
    "plt.ylabel('Precision')\n",
    "\n",
    "plt.legend()\n",
    "plt.title('Precision-Recall Curve: Different Classification Models', fontsize=20)\n",
    "# plt.savefig('precision_recall_classification_models.png')\n",
    "plt.show();"
   ]
  },
  {
   "cell_type": "code",
   "execution_count": 53,
   "metadata": {},
   "outputs": [],
   "source": [
    "### THIS FILE ENDS HERE ###"
   ]
  },
  {
   "cell_type": "code",
   "execution_count": null,
   "metadata": {},
   "outputs": [],
   "source": []
  }
 ],
 "metadata": {
  "kernelspec": {
   "display_name": "Python 3",
   "language": "python",
   "name": "python3"
  },
  "language_info": {
   "codemirror_mode": {
    "name": "ipython",
    "version": 3
   },
   "file_extension": ".py",
   "mimetype": "text/x-python",
   "name": "python",
   "nbconvert_exporter": "python",
   "pygments_lexer": "ipython3",
   "version": "3.7.4"
  }
 },
 "nbformat": 4,
 "nbformat_minor": 4
}
