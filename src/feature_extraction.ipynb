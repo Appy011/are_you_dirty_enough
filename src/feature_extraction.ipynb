{
 "cells": [
  {
   "cell_type": "code",
   "execution_count": 1,
   "metadata": {},
   "outputs": [],
   "source": [
    "import librosa\n",
    "import wave, os, glob\n",
    "import csv\n",
    "import numpy as np\n",
    "import pandas as pd"
   ]
  },
  {
   "cell_type": "markdown",
   "metadata": {},
   "source": [
    "# Import all Data"
   ]
  },
  {
   "cell_type": "code",
   "execution_count": 2,
   "metadata": {},
   "outputs": [],
   "source": [
    "def grab_data(path):\n",
    "    data = []\n",
    "    for filename in glob.glob(os.path.join(path, '*.wav')):\n",
    "        x, sr = librosa.load(filename, sr=48000)\n",
    "        data.append(x)\n",
    "    return data"
   ]
  },
  {
   "cell_type": "code",
   "execution_count": 3,
   "metadata": {},
   "outputs": [],
   "source": [
    "clean_data = grab_data('clean_testset_wav')\n",
    "noisy_data = grab_data('noisy_testset_wav')"
   ]
  },
  {
   "cell_type": "markdown",
   "metadata": {},
   "source": [
    "# Feature Selection"
   ]
  },
  {
   "cell_type": "markdown",
   "metadata": {},
   "source": [
    "The features that have will be extracted are\n",
    "\n",
    "- Zero Crossing Rate\n",
    "- RMSE\n",
    "- Spectral Centroid\n",
    "- Spectral Bandwidth\n",
    "- Spectral Roll-off\n",
    "- Chroma Frequencies\n",
    "- Mel-frequency cepstral coefficients (MFCC)"
   ]
  },
  {
   "cell_type": "markdown",
   "metadata": {},
   "source": [
    "# Feature Extraction"
   ]
  },
  {
   "cell_type": "code",
   "execution_count": 4,
   "metadata": {},
   "outputs": [],
   "source": [
    "\"\"\"\n",
    "\n",
    "creating a list of headings\n",
    "\n",
    "\"\"\"\n",
    "\n",
    "header = 'filename chroma_stft rmse spectral_centroid spectral_bandwidth rolloff zero_crossing_rate'\n",
    "for i in range(1, 21):\n",
    "    header += f' mfcc{i}'\n",
    "header += ' label'\n",
    "header = header.split()"
   ]
  },
  {
   "cell_type": "code",
   "execution_count": 5,
   "metadata": {},
   "outputs": [],
   "source": [
    "sr = 48000\n",
    "\n",
    "\"\"\"\n",
    "\n",
    "opening and writing the headings to a csv file\n",
    "\n",
    "\"\"\"\n",
    "\n",
    "# file = open('data.csv', 'w', newline='')\n",
    "# with file:\n",
    "#     writer = csv.writer(file)\n",
    "#     writer.writerow(header)\n",
    "\n",
    "\"\"\"\n",
    "\n",
    "selecting the folders   \n",
    "\n",
    "\"\"\"\n",
    "\n",
    "path =['clean_testset_wav', 'noisy_testset_wav']\n",
    "\n",
    "\n",
    "\"\"\"\n",
    "\n",
    "Below code selects every file inside both folders. Extracting features from every wav file\n",
    "and storing them into a csv file\n",
    "\n",
    "\"\"\"\n",
    "\n",
    "for g in path:\n",
    "    for filename in glob.glob(os.path.join(g, '*.wav')):\n",
    "        y, sr = librosa.load(filename, sr=sr)\n",
    "        chroma_stft = librosa.feature.chroma_stft(y=y, sr=sr)\n",
    "        rmse = librosa.feature.rms(y=y)\n",
    "        spec_cent = librosa.feature.spectral_centroid(y=y, sr=sr)\n",
    "        spec_bw = librosa.feature.spectral_bandwidth(y=y, sr=sr)\n",
    "        rolloff = librosa.feature.spectral_rolloff(y=y, sr=sr)\n",
    "        zcr = librosa.feature.zero_crossing_rate(y)\n",
    "        mfcc = librosa.feature.mfcc(y=y, sr=sr)\n",
    "        to_append = f'{filename} {np.mean(chroma_stft)} {np.mean(rmse)} {np.mean(spec_cent)} {np.mean(spec_bw)} {np.mean(rolloff)} {np.mean(zcr)}'    \n",
    "        for e in mfcc:\n",
    "            to_append += f' {np.mean(e)}'\n",
    "        to_append += f' {g}'\n",
    "#         file = open('data.csv', 'a', newline='')\n",
    "#         with file:\n",
    "#             writer = csv.writer(file)\n",
    "#             writer.writerow(to_append.split())"
   ]
  }
 ],
 "metadata": {
  "kernelspec": {
   "display_name": "Python 3",
   "language": "python",
   "name": "python3"
  },
  "language_info": {
   "codemirror_mode": {
    "name": "ipython",
    "version": 3
   },
   "file_extension": ".py",
   "mimetype": "text/x-python",
   "name": "python",
   "nbconvert_exporter": "python",
   "pygments_lexer": "ipython3",
   "version": "3.7.4"
  }
 },
 "nbformat": 4,
 "nbformat_minor": 2
}
