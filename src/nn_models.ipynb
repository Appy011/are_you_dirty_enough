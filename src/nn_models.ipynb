{
 "cells": [
  {
   "cell_type": "code",
   "execution_count": 21,
   "metadata": {},
   "outputs": [
    {
     "name": "stderr",
     "output_type": "stream",
     "text": [
      "Using TensorFlow backend.\n"
     ]
    }
   ],
   "source": [
    "import pandas as pd\n",
    "import numpy as np\n",
    "import matplotlib.pyplot as plt\n",
    "import seaborn as sns\n",
    "\n",
    "%matplotlib inline\n",
    "\n",
    "from sklearn.model_selection import train_test_split, KFold\n",
    "from sklearn.preprocessing import LabelEncoder, StandardScaler\n",
    "\n",
    "from keras import models\n",
    "from keras import layers"
   ]
  },
  {
   "cell_type": "code",
   "execution_count": 22,
   "metadata": {},
   "outputs": [],
   "source": [
    "raw = pd.read_csv('clean_data.csv')"
   ]
  },
  {
   "cell_type": "code",
   "execution_count": 23,
   "metadata": {},
   "outputs": [
    {
     "name": "stderr",
     "output_type": "stream",
     "text": [
      "/opt/conda/lib/python3.7/site-packages/pandas/core/frame.py:4117: SettingWithCopyWarning: \n",
      "A value is trying to be set on a copy of a slice from a DataFrame\n",
      "\n",
      "See the caveats in the documentation: http://pandas.pydata.org/pandas-docs/stable/user_guide/indexing.html#returning-a-view-versus-a-copy\n",
      "  errors=errors,\n"
     ]
    }
   ],
   "source": [
    "df = raw[:]\n",
    "df.drop(columns=['Unnamed: 0'], inplace=True)"
   ]
  },
  {
   "cell_type": "code",
   "execution_count": 24,
   "metadata": {},
   "outputs": [
    {
     "data": {
      "text/html": [
       "<div>\n",
       "<style scoped>\n",
       "    .dataframe tbody tr th:only-of-type {\n",
       "        vertical-align: middle;\n",
       "    }\n",
       "\n",
       "    .dataframe tbody tr th {\n",
       "        vertical-align: top;\n",
       "    }\n",
       "\n",
       "    .dataframe thead th {\n",
       "        text-align: right;\n",
       "    }\n",
       "</style>\n",
       "<table border=\"1\" class=\"dataframe\">\n",
       "  <thead>\n",
       "    <tr style=\"text-align: right;\">\n",
       "      <th></th>\n",
       "      <th>chroma_stft</th>\n",
       "      <th>rmse</th>\n",
       "      <th>spectral_centroid</th>\n",
       "      <th>spectral_bandwidth</th>\n",
       "      <th>rolloff</th>\n",
       "      <th>zero_crossing_rate</th>\n",
       "      <th>mfcc1</th>\n",
       "      <th>mfcc2</th>\n",
       "      <th>mfcc3</th>\n",
       "      <th>mfcc4</th>\n",
       "      <th>...</th>\n",
       "      <th>mfcc12</th>\n",
       "      <th>mfcc13</th>\n",
       "      <th>mfcc14</th>\n",
       "      <th>mfcc15</th>\n",
       "      <th>mfcc16</th>\n",
       "      <th>mfcc17</th>\n",
       "      <th>mfcc18</th>\n",
       "      <th>mfcc19</th>\n",
       "      <th>mfcc20</th>\n",
       "      <th>label</th>\n",
       "    </tr>\n",
       "  </thead>\n",
       "  <tbody>\n",
       "    <tr>\n",
       "      <th>853</th>\n",
       "      <td>0.546393</td>\n",
       "      <td>0.113922</td>\n",
       "      <td>2878.135685</td>\n",
       "      <td>4684.241163</td>\n",
       "      <td>6360.937500</td>\n",
       "      <td>0.030758</td>\n",
       "      <td>-205.487869</td>\n",
       "      <td>133.812012</td>\n",
       "      <td>6.378830</td>\n",
       "      <td>19.708214</td>\n",
       "      <td>...</td>\n",
       "      <td>4.021676</td>\n",
       "      <td>5.670356</td>\n",
       "      <td>2.437882</td>\n",
       "      <td>-0.870088</td>\n",
       "      <td>5.049088</td>\n",
       "      <td>5.088596</td>\n",
       "      <td>9.346718</td>\n",
       "      <td>1.042095</td>\n",
       "      <td>4.162721</td>\n",
       "      <td>noisy</td>\n",
       "    </tr>\n",
       "    <tr>\n",
       "      <th>1522</th>\n",
       "      <td>0.577984</td>\n",
       "      <td>0.077711</td>\n",
       "      <td>3743.097252</td>\n",
       "      <td>5561.935480</td>\n",
       "      <td>8613.281250</td>\n",
       "      <td>0.032311</td>\n",
       "      <td>-308.606598</td>\n",
       "      <td>114.521500</td>\n",
       "      <td>29.174204</td>\n",
       "      <td>12.554191</td>\n",
       "      <td>...</td>\n",
       "      <td>5.203612</td>\n",
       "      <td>2.088779</td>\n",
       "      <td>7.103682</td>\n",
       "      <td>6.710810</td>\n",
       "      <td>6.570192</td>\n",
       "      <td>3.896131</td>\n",
       "      <td>6.389806</td>\n",
       "      <td>0.214119</td>\n",
       "      <td>2.302424</td>\n",
       "      <td>noisy</td>\n",
       "    </tr>\n",
       "    <tr>\n",
       "      <th>862</th>\n",
       "      <td>0.511070</td>\n",
       "      <td>0.069959</td>\n",
       "      <td>2538.287656</td>\n",
       "      <td>4597.345243</td>\n",
       "      <td>5223.370296</td>\n",
       "      <td>0.020279</td>\n",
       "      <td>-306.823486</td>\n",
       "      <td>147.832993</td>\n",
       "      <td>18.117331</td>\n",
       "      <td>14.568597</td>\n",
       "      <td>...</td>\n",
       "      <td>0.991739</td>\n",
       "      <td>0.292683</td>\n",
       "      <td>5.769640</td>\n",
       "      <td>5.897959</td>\n",
       "      <td>7.677010</td>\n",
       "      <td>1.371261</td>\n",
       "      <td>3.594155</td>\n",
       "      <td>0.985624</td>\n",
       "      <td>-1.491890</td>\n",
       "      <td>noisy</td>\n",
       "    </tr>\n",
       "    <tr>\n",
       "      <th>1600</th>\n",
       "      <td>0.459821</td>\n",
       "      <td>0.085970</td>\n",
       "      <td>3135.677417</td>\n",
       "      <td>4532.642374</td>\n",
       "      <td>7008.535880</td>\n",
       "      <td>0.046244</td>\n",
       "      <td>-205.499222</td>\n",
       "      <td>136.754730</td>\n",
       "      <td>8.295756</td>\n",
       "      <td>24.001339</td>\n",
       "      <td>...</td>\n",
       "      <td>3.070464</td>\n",
       "      <td>5.875611</td>\n",
       "      <td>1.459172</td>\n",
       "      <td>-0.761881</td>\n",
       "      <td>3.604788</td>\n",
       "      <td>2.685039</td>\n",
       "      <td>5.346411</td>\n",
       "      <td>-0.178069</td>\n",
       "      <td>-0.769629</td>\n",
       "      <td>noisy</td>\n",
       "    </tr>\n",
       "    <tr>\n",
       "      <th>1544</th>\n",
       "      <td>0.620830</td>\n",
       "      <td>0.024522</td>\n",
       "      <td>3762.284002</td>\n",
       "      <td>5356.001157</td>\n",
       "      <td>8754.310345</td>\n",
       "      <td>0.044400</td>\n",
       "      <td>-401.022644</td>\n",
       "      <td>115.999023</td>\n",
       "      <td>11.687867</td>\n",
       "      <td>15.249053</td>\n",
       "      <td>...</td>\n",
       "      <td>3.434721</td>\n",
       "      <td>7.796094</td>\n",
       "      <td>1.367696</td>\n",
       "      <td>1.628057</td>\n",
       "      <td>9.684388</td>\n",
       "      <td>2.170479</td>\n",
       "      <td>2.891431</td>\n",
       "      <td>-1.174108</td>\n",
       "      <td>1.696491</td>\n",
       "      <td>noisy</td>\n",
       "    </tr>\n",
       "    <tr>\n",
       "      <th>830</th>\n",
       "      <td>0.528046</td>\n",
       "      <td>0.039786</td>\n",
       "      <td>3513.822496</td>\n",
       "      <td>4746.133763</td>\n",
       "      <td>6928.875000</td>\n",
       "      <td>0.051828</td>\n",
       "      <td>-368.913086</td>\n",
       "      <td>117.023201</td>\n",
       "      <td>8.858659</td>\n",
       "      <td>20.760509</td>\n",
       "      <td>...</td>\n",
       "      <td>1.760267</td>\n",
       "      <td>2.580727</td>\n",
       "      <td>3.622672</td>\n",
       "      <td>1.226964</td>\n",
       "      <td>4.441804</td>\n",
       "      <td>5.313216</td>\n",
       "      <td>6.345790</td>\n",
       "      <td>-2.424308</td>\n",
       "      <td>-1.121348</td>\n",
       "      <td>noisy</td>\n",
       "    </tr>\n",
       "    <tr>\n",
       "      <th>123</th>\n",
       "      <td>0.572079</td>\n",
       "      <td>0.034403</td>\n",
       "      <td>3346.635415</td>\n",
       "      <td>4996.060553</td>\n",
       "      <td>7258.741259</td>\n",
       "      <td>0.046479</td>\n",
       "      <td>-429.402039</td>\n",
       "      <td>94.320999</td>\n",
       "      <td>4.646223</td>\n",
       "      <td>20.405909</td>\n",
       "      <td>...</td>\n",
       "      <td>11.177666</td>\n",
       "      <td>4.068501</td>\n",
       "      <td>5.535565</td>\n",
       "      <td>7.417824</td>\n",
       "      <td>11.191915</td>\n",
       "      <td>10.257754</td>\n",
       "      <td>4.565359</td>\n",
       "      <td>2.512191</td>\n",
       "      <td>1.062449</td>\n",
       "      <td>clean</td>\n",
       "    </tr>\n",
       "    <tr>\n",
       "      <th>939</th>\n",
       "      <td>0.536600</td>\n",
       "      <td>0.061819</td>\n",
       "      <td>2713.910538</td>\n",
       "      <td>4597.772747</td>\n",
       "      <td>5659.858820</td>\n",
       "      <td>0.026865</td>\n",
       "      <td>-284.239288</td>\n",
       "      <td>141.663422</td>\n",
       "      <td>10.754776</td>\n",
       "      <td>19.829496</td>\n",
       "      <td>...</td>\n",
       "      <td>3.247264</td>\n",
       "      <td>0.525137</td>\n",
       "      <td>3.255810</td>\n",
       "      <td>2.526368</td>\n",
       "      <td>6.084528</td>\n",
       "      <td>3.552429</td>\n",
       "      <td>4.172998</td>\n",
       "      <td>-1.093737</td>\n",
       "      <td>2.934429</td>\n",
       "      <td>noisy</td>\n",
       "    </tr>\n",
       "    <tr>\n",
       "      <th>44</th>\n",
       "      <td>0.502823</td>\n",
       "      <td>0.066981</td>\n",
       "      <td>2889.198593</td>\n",
       "      <td>4606.048436</td>\n",
       "      <td>6342.187500</td>\n",
       "      <td>0.026610</td>\n",
       "      <td>-392.654205</td>\n",
       "      <td>119.264938</td>\n",
       "      <td>14.454150</td>\n",
       "      <td>17.078720</td>\n",
       "      <td>...</td>\n",
       "      <td>10.427136</td>\n",
       "      <td>-4.683949</td>\n",
       "      <td>0.752584</td>\n",
       "      <td>6.519804</td>\n",
       "      <td>7.394217</td>\n",
       "      <td>6.985643</td>\n",
       "      <td>5.470838</td>\n",
       "      <td>4.667185</td>\n",
       "      <td>0.233097</td>\n",
       "      <td>clean</td>\n",
       "    </tr>\n",
       "    <tr>\n",
       "      <th>1073</th>\n",
       "      <td>0.655263</td>\n",
       "      <td>0.057283</td>\n",
       "      <td>4133.213239</td>\n",
       "      <td>5937.180625</td>\n",
       "      <td>10528.364702</td>\n",
       "      <td>0.035043</td>\n",
       "      <td>-361.717987</td>\n",
       "      <td>104.002777</td>\n",
       "      <td>33.944820</td>\n",
       "      <td>16.736712</td>\n",
       "      <td>...</td>\n",
       "      <td>6.883377</td>\n",
       "      <td>1.121363</td>\n",
       "      <td>8.908209</td>\n",
       "      <td>4.724882</td>\n",
       "      <td>5.803524</td>\n",
       "      <td>2.105308</td>\n",
       "      <td>5.230653</td>\n",
       "      <td>4.060668</td>\n",
       "      <td>2.442854</td>\n",
       "      <td>noisy</td>\n",
       "    </tr>\n",
       "  </tbody>\n",
       "</table>\n",
       "<p>10 rows × 27 columns</p>\n",
       "</div>"
      ],
      "text/plain": [
       "      chroma_stft      rmse  spectral_centroid  spectral_bandwidth  \\\n",
       "853      0.546393  0.113922        2878.135685         4684.241163   \n",
       "1522     0.577984  0.077711        3743.097252         5561.935480   \n",
       "862      0.511070  0.069959        2538.287656         4597.345243   \n",
       "1600     0.459821  0.085970        3135.677417         4532.642374   \n",
       "1544     0.620830  0.024522        3762.284002         5356.001157   \n",
       "830      0.528046  0.039786        3513.822496         4746.133763   \n",
       "123      0.572079  0.034403        3346.635415         4996.060553   \n",
       "939      0.536600  0.061819        2713.910538         4597.772747   \n",
       "44       0.502823  0.066981        2889.198593         4606.048436   \n",
       "1073     0.655263  0.057283        4133.213239         5937.180625   \n",
       "\n",
       "           rolloff  zero_crossing_rate       mfcc1       mfcc2      mfcc3  \\\n",
       "853    6360.937500            0.030758 -205.487869  133.812012   6.378830   \n",
       "1522   8613.281250            0.032311 -308.606598  114.521500  29.174204   \n",
       "862    5223.370296            0.020279 -306.823486  147.832993  18.117331   \n",
       "1600   7008.535880            0.046244 -205.499222  136.754730   8.295756   \n",
       "1544   8754.310345            0.044400 -401.022644  115.999023  11.687867   \n",
       "830    6928.875000            0.051828 -368.913086  117.023201   8.858659   \n",
       "123    7258.741259            0.046479 -429.402039   94.320999   4.646223   \n",
       "939    5659.858820            0.026865 -284.239288  141.663422  10.754776   \n",
       "44     6342.187500            0.026610 -392.654205  119.264938  14.454150   \n",
       "1073  10528.364702            0.035043 -361.717987  104.002777  33.944820   \n",
       "\n",
       "          mfcc4  ...     mfcc12    mfcc13    mfcc14    mfcc15     mfcc16  \\\n",
       "853   19.708214  ...   4.021676  5.670356  2.437882 -0.870088   5.049088   \n",
       "1522  12.554191  ...   5.203612  2.088779  7.103682  6.710810   6.570192   \n",
       "862   14.568597  ...   0.991739  0.292683  5.769640  5.897959   7.677010   \n",
       "1600  24.001339  ...   3.070464  5.875611  1.459172 -0.761881   3.604788   \n",
       "1544  15.249053  ...   3.434721  7.796094  1.367696  1.628057   9.684388   \n",
       "830   20.760509  ...   1.760267  2.580727  3.622672  1.226964   4.441804   \n",
       "123   20.405909  ...  11.177666  4.068501  5.535565  7.417824  11.191915   \n",
       "939   19.829496  ...   3.247264  0.525137  3.255810  2.526368   6.084528   \n",
       "44    17.078720  ...  10.427136 -4.683949  0.752584  6.519804   7.394217   \n",
       "1073  16.736712  ...   6.883377  1.121363  8.908209  4.724882   5.803524   \n",
       "\n",
       "         mfcc17    mfcc18    mfcc19    mfcc20  label  \n",
       "853    5.088596  9.346718  1.042095  4.162721  noisy  \n",
       "1522   3.896131  6.389806  0.214119  2.302424  noisy  \n",
       "862    1.371261  3.594155  0.985624 -1.491890  noisy  \n",
       "1600   2.685039  5.346411 -0.178069 -0.769629  noisy  \n",
       "1544   2.170479  2.891431 -1.174108  1.696491  noisy  \n",
       "830    5.313216  6.345790 -2.424308 -1.121348  noisy  \n",
       "123   10.257754  4.565359  2.512191  1.062449  clean  \n",
       "939    3.552429  4.172998 -1.093737  2.934429  noisy  \n",
       "44     6.985643  5.470838  4.667185  0.233097  clean  \n",
       "1073   2.105308  5.230653  4.060668  2.442854  noisy  \n",
       "\n",
       "[10 rows x 27 columns]"
      ]
     },
     "execution_count": 24,
     "metadata": {},
     "output_type": "execute_result"
    }
   ],
   "source": [
    "df.sample(10)"
   ]
  },
  {
   "cell_type": "code",
   "execution_count": 25,
   "metadata": {},
   "outputs": [],
   "source": [
    "type_list = df.iloc[:, -1]\n",
    "encoder = LabelEncoder()\n",
    "y = encoder.fit_transform(type_list)"
   ]
  },
  {
   "cell_type": "code",
   "execution_count": 26,
   "metadata": {},
   "outputs": [],
   "source": [
    "scaler = StandardScaler()\n",
    "X = scaler.fit_transform(np.array(df.iloc[:, :-1], dtype = float))"
   ]
  },
  {
   "cell_type": "code",
   "execution_count": 27,
   "metadata": {},
   "outputs": [],
   "source": [
    "X_train, X_test, y_train, y_test = train_test_split(X, y, test_size=0.2)"
   ]
  },
  {
   "cell_type": "code",
   "execution_count": 28,
   "metadata": {},
   "outputs": [
    {
     "name": "stdout",
     "output_type": "stream",
     "text": [
      "1318\n",
      "1318\n"
     ]
    }
   ],
   "source": [
    "print(len(X_train))\n",
    "print(len(y_train))"
   ]
  },
  {
   "cell_type": "code",
   "execution_count": 29,
   "metadata": {},
   "outputs": [
    {
     "name": "stdout",
     "output_type": "stream",
     "text": [
      "330\n",
      "330\n"
     ]
    }
   ],
   "source": [
    "print(len(X_test))\n",
    "print(len(y_test))"
   ]
  },
  {
   "cell_type": "code",
   "execution_count": 154,
   "metadata": {},
   "outputs": [],
   "source": [
    "model = models.Sequential()\n",
    "model.add(layers.Dense(256, activation='relu', input_shape=(X_train.shape[1],)))\n",
    "\n",
    "model.add(layers.Dense(128, activation='relu'))\n",
    "\n",
    "# model.add(layers.Dense(32, activation='relu'))\n",
    "\n",
    "# model.add(layers.Dense(16, activation='sigmoid'))\n",
    "\n",
    "model.add(layers.Dense(2, activation='softmax'))"
   ]
  },
  {
   "cell_type": "code",
   "execution_count": 155,
   "metadata": {},
   "outputs": [
    {
     "name": "stdout",
     "output_type": "stream",
     "text": [
      "Model: \"sequential_25\"\n",
      "_________________________________________________________________\n",
      "Layer (type)                 Output Shape              Param #   \n",
      "=================================================================\n",
      "dense_87 (Dense)             (None, 256)               6912      \n",
      "_________________________________________________________________\n",
      "dense_88 (Dense)             (None, 128)               32896     \n",
      "_________________________________________________________________\n",
      "dense_89 (Dense)             (None, 2)                 258       \n",
      "=================================================================\n",
      "Total params: 40,066\n",
      "Trainable params: 40,066\n",
      "Non-trainable params: 0\n",
      "_________________________________________________________________\n"
     ]
    }
   ],
   "source": [
    "model.summary()"
   ]
  },
  {
   "cell_type": "code",
   "execution_count": 156,
   "metadata": {},
   "outputs": [],
   "source": [
    "model.compile(optimizer='adam',\n",
    "              loss='sparse_categorical_crossentropy',\n",
    "              metrics=['accuracy'])"
   ]
  },
  {
   "cell_type": "code",
   "execution_count": 157,
   "metadata": {},
   "outputs": [
    {
     "name": "stdout",
     "output_type": "stream",
     "text": [
      "Epoch 1/20\n",
      "1318/1318 [==============================] - 0s 87us/step - loss: 0.4383 - accuracy: 0.8642\n",
      "Epoch 2/20\n",
      "1318/1318 [==============================] - 0s 22us/step - loss: 0.1662 - accuracy: 0.9446\n",
      "Epoch 3/20\n",
      "1318/1318 [==============================] - 0s 20us/step - loss: 0.0944 - accuracy: 0.9674\n",
      "Epoch 4/20\n",
      "1318/1318 [==============================] - 0s 18us/step - loss: 0.0686 - accuracy: 0.9750\n",
      "Epoch 5/20\n",
      "1318/1318 [==============================] - 0s 28us/step - loss: 0.0548 - accuracy: 0.9803\n",
      "Epoch 6/20\n",
      "1318/1318 [==============================] - 0s 20us/step - loss: 0.0440 - accuracy: 0.9863\n",
      "Epoch 7/20\n",
      "1318/1318 [==============================] - 0s 20us/step - loss: 0.0356 - accuracy: 0.9863\n",
      "Epoch 8/20\n",
      "1318/1318 [==============================] - 0s 24us/step - loss: 0.0287 - accuracy: 0.9901\n",
      "Epoch 9/20\n",
      "1318/1318 [==============================] - 0s 24us/step - loss: 0.0247 - accuracy: 0.9932\n",
      "Epoch 10/20\n",
      "1318/1318 [==============================] - 0s 22us/step - loss: 0.0193 - accuracy: 0.9947\n",
      "Epoch 11/20\n",
      "1318/1318 [==============================] - 0s 30us/step - loss: 0.0158 - accuracy: 0.9977\n",
      "Epoch 12/20\n",
      "1318/1318 [==============================] - 0s 20us/step - loss: 0.0132 - accuracy: 0.9985\n",
      "Epoch 13/20\n",
      "1318/1318 [==============================] - 0s 19us/step - loss: 0.0106 - accuracy: 0.9992\n",
      "Epoch 14/20\n",
      "1318/1318 [==============================] - 0s 24us/step - loss: 0.0086 - accuracy: 0.9992\n",
      "Epoch 15/20\n",
      "1318/1318 [==============================] - 0s 24us/step - loss: 0.0073 - accuracy: 1.0000\n",
      "Epoch 16/20\n",
      "1318/1318 [==============================] - 0s 18us/step - loss: 0.0062 - accuracy: 1.0000\n",
      "Epoch 17/20\n",
      "1318/1318 [==============================] - 0s 19us/step - loss: 0.0054 - accuracy: 1.0000\n",
      "Epoch 18/20\n",
      "1318/1318 [==============================] - 0s 28us/step - loss: 0.0054 - accuracy: 0.9992\n",
      "Epoch 19/20\n",
      "1318/1318 [==============================] - 0s 19us/step - loss: 0.0042 - accuracy: 1.0000\n",
      "Epoch 20/20\n",
      "1318/1318 [==============================] - 0s 17us/step - loss: 0.0033 - accuracy: 1.0000\n"
     ]
    }
   ],
   "source": [
    "history = model.fit(X_train,\n",
    "                    y_train,\n",
    "                    epochs=20,\n",
    "                    batch_size=128)"
   ]
  },
  {
   "cell_type": "code",
   "execution_count": 158,
   "metadata": {},
   "outputs": [
    {
     "data": {
      "text/plain": [
       "Text(0.5, 0, 'epoch')"
      ]
     },
     "execution_count": 158,
     "metadata": {},
     "output_type": "execute_result"
    },
    {
     "data": {
      "image/png": "[encoded data removed]",
      "text/plain": [
       "<Figure size 432x288 with 1 Axes>"
      ]
     },
     "metadata": {
      "needs_background": "light"
     },
     "output_type": "display_data"
    }
   ],
   "source": [
    "plt.title(\"train loss\")\n",
    "plt.plot( history.history[\"loss\"] )\n",
    "plt.xlabel(\"epoch\")"
   ]
  },
  {
   "cell_type": "code",
   "execution_count": 159,
   "metadata": {},
   "outputs": [
    {
     "name": "stdout",
     "output_type": "stream",
     "text": [
      "330/330 [==============================] - 0s 97us/step\n"
     ]
    }
   ],
   "source": [
    "test_loss, test_acc = model.evaluate(X_test,y_test)"
   ]
  },
  {
   "cell_type": "code",
   "execution_count": 160,
   "metadata": {},
   "outputs": [
    {
     "name": "stdout",
     "output_type": "stream",
     "text": [
      "test_acc:  0.9757575988769531\n",
      "test_loss:  0.07169323981259808\n"
     ]
    }
   ],
   "source": [
    "print('test_acc: ',test_acc)\n",
    "print('test_loss: ',test_loss)"
   ]
  },
  {
   "cell_type": "code",
   "execution_count": null,
   "metadata": {},
   "outputs": [],
   "source": []
  },
  {
   "cell_type": "code",
   "execution_count": null,
   "metadata": {},
   "outputs": [],
   "source": []
  }
 ],
 "metadata": {
  "kernelspec": {
   "display_name": "Python 3",
   "language": "python",
   "name": "python3"
  },
  "language_info": {
   "codemirror_mode": {
    "name": "ipython",
    "version": 3
   },
   "file_extension": ".py",
   "mimetype": "text/x-python",
   "name": "python",
   "nbconvert_exporter": "python",
   "pygments_lexer": "ipython3",
   "version": "3.7.4"
  }
 },
 "nbformat": 4,
 "nbformat_minor": 4
}
